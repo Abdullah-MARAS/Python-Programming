{
 "cells": [
  {
   "cell_type": "code",
   "execution_count": null,
   "metadata": {},
   "outputs": [],
   "source": [
    "#------ -2 ----- -1 ----0----1-----2"
   ]
  },
  {
   "cell_type": "code",
   "execution_count": 2,
   "metadata": {},
   "outputs": [],
   "source": [
    "import numpy as np\n",
    "from numpy.random import randn"
   ]
  },
  {
   "cell_type": "code",
   "execution_count": 3,
   "metadata": {},
   "outputs": [
    {
     "data": {
      "text/plain": [
       "0.21183201122358844"
      ]
     },
     "execution_count": 3,
     "metadata": {},
     "output_type": "execute_result"
    }
   ],
   "source": [
    "randn()#produce a normally distrubuted number\n",
    "#ctrl+enter: run the current line without creating new line"
   ]
  },
  {
   "cell_type": "code",
   "execution_count": 7,
   "metadata": {},
   "outputs": [
    {
     "name": "stdout",
     "output_type": "stream",
     "text": [
      "1.19783957787707\n",
      "Greater than 1\n"
     ]
    }
   ],
   "source": [
    "answer=None#None means Null\n",
    "x=randn()\n",
    "if x>1:\n",
    "    answer='Greater than 1'\n",
    "print(x)\n",
    "print(answer)"
   ]
  },
  {
   "cell_type": "code",
   "execution_count": 9,
   "metadata": {},
   "outputs": [
    {
     "name": "stdout",
     "output_type": "stream",
     "text": [
      "3.0892743785997054\n",
      "Greater than 1\n"
     ]
    }
   ],
   "source": [
    "answer=None#None means Null\n",
    "x=randn()\n",
    "if x>1:\n",
    "    answer='Greater than 1'\n",
    "else:\n",
    "    answer='Less than 1'\n",
    "print(x)\n",
    "print(answer)"
   ]
  },
  {
   "cell_type": "code",
   "execution_count": 10,
   "metadata": {},
   "outputs": [
    {
     "name": "stdout",
     "output_type": "stream",
     "text": [
      "-0.6256951529129303\n",
      "Between -1 and 1\n"
     ]
    }
   ],
   "source": [
    "#Nested Statements\n",
    "answer=None#None means Null\n",
    "x=randn()\n",
    "if x>1:\n",
    "    answer='Greater than 1'\n",
    "else:\n",
    "    if x>=-1:\n",
    "        answer='Between -1 and 1'\n",
    "    else:\n",
    "        answer='Less than -1'\n",
    "print(x)\n",
    "print(answer)"
   ]
  },
  {
   "cell_type": "code",
   "execution_count": 11,
   "metadata": {},
   "outputs": [
    {
     "name": "stdout",
     "output_type": "stream",
     "text": [
      "2.1949368215444016\n",
      "Greater than 1\n"
     ]
    }
   ],
   "source": [
    "#Chained Statement\n",
    "#Nested Statements\n",
    "answer=None#None means Null\n",
    "x=randn()\n",
    "if x>1:\n",
    "    answer='Greater than 1'\n",
    "elif x>=-1:\n",
    "    answer='Between -1 and 1'\n",
    "else:\n",
    "    answer='Less than -1'\n",
    "print(x)\n",
    "print(answer)"
   ]
  },
  {
   "cell_type": "code",
   "execution_count": null,
   "metadata": {},
   "outputs": [],
   "source": []
  }
 ],
 "metadata": {
  "kernelspec": {
   "display_name": "Python 3",
   "language": "python",
   "name": "python3"
  },
  "language_info": {
   "codemirror_mode": {
    "name": "ipython",
    "version": 3
   },
   "file_extension": ".py",
   "mimetype": "text/x-python",
   "name": "python",
   "nbconvert_exporter": "python",
   "pygments_lexer": "ipython3",
   "version": "3.6.4"
  }
 },
 "nbformat": 4,
 "nbformat_minor": 2
}
